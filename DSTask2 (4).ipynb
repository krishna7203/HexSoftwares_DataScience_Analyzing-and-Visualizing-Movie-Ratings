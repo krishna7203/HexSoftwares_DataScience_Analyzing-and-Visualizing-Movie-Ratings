{
 "cells": [
  {
   "cell_type": "code",
   "execution_count": null,
   "id": "909ca64a-c395-45cd-a176-0b89dcaf98e2",
   "metadata": {},
   "outputs": [],
   "source": [
    "import pandas as pd\n",
    "import numpy as np\n",
    "import matplotlib.pyplot as plt\n",
    "import seaborn as sns"
   ]
  },
  {
   "cell_type": "code",
   "execution_count": null,
   "id": "6845fd27-bc5d-47fa-a819-7fe2500d6933",
   "metadata": {},
   "outputs": [],
   "source": [
    "ratings=pd.read_csv(\"C:/Users/kbari/Downloads/rating.csv/rating.csv\")"
   ]
  },
  {
   "cell_type": "code",
   "execution_count": null,
   "id": "43f2ab5c-bad0-46df-8b9c-d7a171adc55e",
   "metadata": {},
   "outputs": [],
   "source": [
    "movies=pd.read_csv(\"C:/Users/kbari/Downloads/movie.csv/movie.csv\")"
   ]
  },
  {
   "cell_type": "code",
   "execution_count": null,
   "id": "e3929530-cb73-4a04-afec-1a187bbfb26e",
   "metadata": {},
   "outputs": [],
   "source": [
    "ratings.head()"
   ]
  },
  {
   "cell_type": "code",
   "execution_count": null,
   "id": "c38e9b88-c1ff-4411-a3fb-fd2381d50698",
   "metadata": {},
   "outputs": [],
   "source": [
    "movies.head()"
   ]
  },
  {
   "cell_type": "code",
   "execution_count": null,
   "id": "986c399e-f922-4b7f-b47a-6ec860a6ca73",
   "metadata": {},
   "outputs": [],
   "source": [
    "data=pd.merge(ratings,movies,on='movieId')"
   ]
  },
  {
   "cell_type": "code",
   "execution_count": null,
   "id": "ef658b12-74aa-4199-8ae4-e79f5c1a5733",
   "metadata": {},
   "outputs": [],
   "source": [
    "data"
   ]
  },
  {
   "cell_type": "code",
   "execution_count": null,
   "id": "e8953c81-3758-4345-bcbe-edf613d5ce12",
   "metadata": {},
   "outputs": [],
   "source": [
    "data.isnull().sum()"
   ]
  },
  {
   "cell_type": "code",
   "execution_count": null,
   "id": "95d81934-725c-4794-9b64-928832b155d3",
   "metadata": {},
   "outputs": [],
   "source": [
    "mean_rating = data['rating'].mean()\n",
    "median_rating = data['rating'].median()\n",
    "mode_rating = data['rating'].mode()[0]"
   ]
  },
  {
   "cell_type": "code",
   "execution_count": null,
   "id": "aa5bd739-61fc-4608-8c55-465b6c71ab5d",
   "metadata": {},
   "outputs": [],
   "source": [
    "print(f\"Mean Rating: {mean_rating}\")\n",
    "print(f\"Median Rating: {median_rating}\")\n",
    "print(f\"Mode Rating: {mode_rating}\")"
   ]
  },
  {
   "cell_type": "code",
   "execution_count": null,
   "id": "723f46b3-95e1-4875-9caf-91714a87bbf5",
   "metadata": {},
   "outputs": [],
   "source": [
    "plt.figure(figsize=(8,6))\n",
    "sns.histplot(data['rating'], bins=10, kde=True)\n",
    "plt.title('Distribution of Movie Ratings')\n",
    "plt.xlabel('Rating')\n",
    "plt.ylabel('Count')\n",
    "plt.show()"
   ]
  },
  {
   "cell_type": "code",
   "execution_count": null,
   "id": "583b08ba-3de4-4a08-9803-2143519706ca",
   "metadata": {},
   "outputs": [],
   "source": [
    "plt.figure(figsize=(6,4))\n",
    "sns.boxplot(x='rating', data=data)\n",
    "plt.title('Boxplot of Movie Ratings')\n",
    "plt.show()"
   ]
  },
  {
   "cell_type": "code",
   "execution_count": null,
   "id": "4f44a02b-a2d8-4871-bf97-92527dd71fd7",
   "metadata": {},
   "outputs": [],
   "source": [
    "top_movies = data.groupby('title')['rating'].mean().sort_values(ascending=False).head(10)\n",
    "print(\"Top Rated Movies:\")\n",
    "print(top_movies)"
   ]
  },
  {
   "cell_type": "code",
   "execution_count": null,
   "id": "6b6ecc21-9724-4b32-b1f5-70a8d5a0d3d3",
   "metadata": {},
   "outputs": [],
   "source": [
    "import plotly.express as px\n",
    "\n",
    "fig = px.histogram(data, x=\"rating\", nbins=10, title='Interactive Ratings Histogram')\n",
    "fig.show()"
   ]
  },
  {
   "cell_type": "code",
   "execution_count": null,
   "id": "f74eb4ed-e378-4953-9b65-4e6f5578bba7",
   "metadata": {},
   "outputs": [],
   "source": []
  },
  {
   "cell_type": "code",
   "execution_count": null,
   "id": "8ef79c07-76c0-44a3-9bf9-e1cb31500eb1",
   "metadata": {},
   "outputs": [],
   "source": []
  }
 ],
 "metadata": {
  "kernelspec": {
   "display_name": "Python 3 (ipykernel)",
   "language": "python",
   "name": "python3"
  },
  "language_info": {
   "codemirror_mode": {
    "name": "ipython",
    "version": 3
   },
   "file_extension": ".py",
   "mimetype": "text/x-python",
   "name": "python",
   "nbconvert_exporter": "python",
   "pygments_lexer": "ipython3",
   "version": "3.12.4"
  }
 },
 "nbformat": 4,
 "nbformat_minor": 5
}
